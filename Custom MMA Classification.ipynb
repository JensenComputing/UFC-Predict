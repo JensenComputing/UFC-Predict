{
 "cells": [
  {
   "cell_type": "code",
   "execution_count": 1,
   "metadata": {
    "collapsed": true
   },
   "outputs": [],
   "source": [
    "import numpy as np\n",
    "import pandas as pd\n",
    "from pandas import DataFrame, Series\n",
    "from sklearn.cross_validation import train_test_split\n",
    "from sklearn.svm import OneClassSVM\n",
    "\n",
    "import matplotlib.pyplot as plt\n",
    "%matplotlib inline\n",
    "import seaborn as sns\n",
    "\n",
    "import sqlalchemy as sa\n",
    "\n",
    "from IPython.display import clear_output\n",
    "\n",
    "import pickle"
   ]
  },
  {
   "cell_type": "markdown",
   "metadata": {},
   "source": [
    "# Optimize one-class SVM outlier model\n",
    "\n",
    "    - Use the retired, non-UFC fighters to train the outlier model. The retired and active UFC fighters can serve in the validation and test sets.\n",
    "    - Get the distributions of win % in the validation set. Optimize for a threshold to reclassify outliers with low win %.\n",
    "    - Optimize one class parameters gamma and nu for the rbf kernel.\n",
    "    - Explore predictions."
   ]
  },
  {
   "cell_type": "code",
   "execution_count": 2,
   "metadata": {
    "collapsed": false
   },
   "outputs": [],
   "source": [
    "# Initialze connection to MySQL\n",
    "engine = sa.create_engine('mysql+pymysql://root:@localhost:3306/fight_db', echo=True)\n",
    "con = engine.connect()\n",
    "\n",
    "clear_output()"
   ]
  },
  {
   "cell_type": "code",
   "execution_count": 3,
   "metadata": {
    "collapsed": false
   },
   "outputs": [],
   "source": [
    "to_array = lambda x: x.values.astype(float)"
   ]
  },
  {
   "cell_type": "code",
   "execution_count": 4,
   "metadata": {
    "collapsed": false
   },
   "outputs": [],
   "source": [
    "# Build function to prepare dataframe for splitting\n",
    "def get_df(active,ufc_has):\n",
    "    # active and ufc_has are boolean options for output\n",
    "    fighters = pd.read_sql('SELECT * FROM `features01`',con=engine)\n",
    "    fighters.drop(['index'],inplace=True,axis=1)\n",
    "    fighters = fighters.drop_duplicates()\n",
    "   \n",
    "    # Clean up for models\n",
    "    fighters.drop(['name'],inplace=True,axis=1)\n",
    "    fighters.drop(['age'],inplace=True,axis=1)\n",
    "    fighters.drop(['locality'],inplace=True,axis=1)\n",
    "    fighters.drop(['ufc.current'],inplace=True,axis=1)\n",
    "    fighters.drop(['ufc.champ'],inplace=True,axis=1)\n",
    "    fighters.drop(['win.pct.all'],inplace=True,axis=1)\n",
    " \n",
    "    if active == 1:\n",
    "        out = DataFrame(fighters[fighters['active']==1])\n",
    "    else:\n",
    "        out = DataFrame(fighters[fighters['active']==0])\n",
    "    \n",
    "    if ufc_has == 1:\n",
    "        out = DataFrame(out[out['ufc.has']==1])\n",
    "    else:\n",
    "        out = DataFrame(out[out['ufc.has']==0])\n",
    "\n",
    "    clear_output()\n",
    "    return out"
   ]
  },
  {
   "cell_type": "code",
   "execution_count": 5,
   "metadata": {
    "collapsed": false
   },
   "outputs": [],
   "source": [
    "# Train with retired non-ufc (minus a split off)\n",
    "x_train = get_df(0,0)\n",
    "\n",
    "# postive cases for validation/testing are active and inactive ufc\n",
    "y_val_test01 = get_df(0,1)\n",
    "y_val_test02 = get_df(1,1)\n",
    "y_val_test = pd.concat([y_val_test01,y_val_test02])\n",
    "\n",
    "# Predict/analyze the active, non-ufc fighters\n",
    "y_predict = get_df(1,0).reset_index(inplace=False)"
   ]
  },
  {
   "cell_type": "code",
   "execution_count": 6,
   "metadata": {
    "collapsed": false
   },
   "outputs": [
    {
     "name": "stdout",
     "output_type": "stream",
     "text": [
      "8509\n",
      "1371\n"
     ]
    },
    {
     "data": {
      "text/plain": [
       "0.1611235162768833"
      ]
     },
     "execution_count": 6,
     "metadata": {},
     "output_type": "execute_result"
    }
   ],
   "source": [
    "# Split up and orgainze the sets. \n",
    "print(len(x_train))\n",
    "print(len(y_val_test))\n",
    "\n",
    "split_factor = len(y_val_test)/len(x_train)\n",
    "split_factor"
   ]
  },
  {
   "cell_type": "code",
   "execution_count": 7,
   "metadata": {
    "collapsed": false
   },
   "outputs": [
    {
     "name": "stdout",
     "output_type": "stream",
     "text": [
      "7138\n",
      "1371\n"
     ]
    }
   ],
   "source": [
    "# split off of training set\n",
    "x_train_set,x_val_test = train_test_split(x_train, test_size=split_factor, random_state=42)\n",
    "\n",
    "print(len(x_train_set))\n",
    "print(len(x_val_test))\n",
    "x_train_set.reset_index(inplace=True)"
   ]
  },
  {
   "cell_type": "code",
   "execution_count": 8,
   "metadata": {
    "collapsed": false
   },
   "outputs": [
    {
     "name": "stdout",
     "output_type": "stream",
     "text": [
      "1028\n",
      "343\n",
      "1028\n",
      "343\n"
     ]
    }
   ],
   "source": [
    "# make val and test sets. Catenate for the model. \n",
    "x_val,x_test,y_val,y_test = train_test_split(x_val_test,y_val_test,test_size=0.25,random_state=56)\n",
    "\n",
    "print(len(x_val))\n",
    "print(len(x_test))\n",
    "print(len(y_val))\n",
    "print(len(y_test))\n",
    "\n",
    "val = pd.concat([x_val,y_val]).reset_index(inplace=False)\n",
    "test = pd.concat([x_test,y_test]).reset_index(inplace=False)"
   ]
  },
  {
   "cell_type": "code",
   "execution_count": 9,
   "metadata": {
    "collapsed": true
   },
   "outputs": [],
   "source": [
    "def OCSVM(nu,kernel,gamma,training):\n",
    "    \"\"\"Fit a one-class SVM model using a DataFrame. see help(sklearn.svm.OneClassSVM)\n",
    "    for more information. \n",
    "    \n",
    "    Args:\n",
    "    nu (float): An upper bound on the fraction of training errors and a \n",
    "    lower bound of the fraction of support vectors.\n",
    "    \n",
    "    kernel (string): SVM kernel function. Options include 'rbf','poly'\n",
    "    ,'linear',or 'sigmoid'.\n",
    "    \n",
    "    gamma (float): Kernel coefficient for ‘rbf’, ‘poly’ and ‘sigmoid’.\n",
    "    \n",
    "    training (DataFrame): The full training set that includes features, index,\n",
    "    and labels\n",
    "    \n",
    "\n",
    "    Returns:\n",
    "    mod (obj): the fit one-class SVM model object\n",
    "    \"\"\"\n",
    "    mod = OneClassSVM(nu=nu, kernel=kernel, gamma=gamma)\n",
    "    arr = to_array(training.drop(['ufc.has','active','index'],inplace=False,axis=1))\n",
    "    mod.fit(arr)\n",
    "    \n",
    "    return mod"
   ]
  },
  {
   "cell_type": "code",
   "execution_count": 10,
   "metadata": {
    "collapsed": true
   },
   "outputs": [],
   "source": [
    "def predict(model,test,use_cut=True,cutoff=0.69):\n",
    "    \"\"\"Predict using the one-class SVM model. See help(sklearn.svm.OneClassSVM)\n",
    "    for more information. \n",
    "    \n",
    "    Args:\n",
    "    model (obj): The one-class SVM model object fit with OCSVM()\n",
    "    \n",
    "    Test (DataFrame): Observations to be predicted upon. Includes features\n",
    "    index,and labels. \n",
    "    \n",
    "    use_cut (Bool): Whether or not to use win % cutoff for reclassification\n",
    "    of outliers back to normal.\n",
    "    \n",
    "    cutoff (float): threshold for reclassification of outliers back to normal.\n",
    "    \n",
    "\n",
    "    Returns:\n",
    "    precision, accruacy (float): Precision and accuracy of classification\n",
    "    \n",
    "    tp,fp,fn,tn (float): true positives, false positives, false negatives, \n",
    "    true negatives\n",
    "    \"\"\"\n",
    "    test_temp = DataFrame(test)\n",
    "    \n",
    "    if 'pred' in test_temp.columns:\n",
    "        test_temp.drop(['pred'],inplace=True,axis=1)\n",
    "\n",
    "    arr = to_array(test_temp.drop(['ufc.has','active','index'],inplace=False,axis=1))\n",
    "    pred = model.predict(arr)\n",
    "\n",
    "    # Shift outcomes from -1,1 to 0,1\n",
    "    pred[pred == 1] = 0\n",
    "    pred[pred == -1] = 1\n",
    "\n",
    "    test_temp['pred'] = Series(pred)\n",
    "\n",
    "    if use_cut == True:\n",
    "        test_temp.loc[(test_temp['pred']==1) & (test_temp['win.pct.pre']<cutoff),'pred'] = 0\n",
    "\n",
    "    tp = test_temp.loc[(test_temp['pred']==1) & (test_temp['ufc.has'] == 1),'pred'].count()\n",
    "    fp = test_temp.loc[(test_temp['pred']==1) & (test_temp['ufc.has'] == 0),'pred'].count()\n",
    "    fn = test_temp.loc[(test_temp['pred']==0) & (test_temp['ufc.has'] == 1),'pred'].count()\n",
    "    tn = test_temp.loc[(test_temp['pred']==0) & (test_temp['ufc.has'] == 0),'pred'].count()\n",
    "\n",
    "    precision = tp/(tp+fp)\n",
    "    accuracy = (tp+tn)/(tp+tn+fp+fn)\n",
    "    \n",
    "    \n",
    "    return precision, accuracy, test_temp['pred'].values, tp, fp, fn, tn"
   ]
  },
  {
   "cell_type": "code",
   "execution_count": 11,
   "metadata": {
    "collapsed": false
   },
   "outputs": [],
   "source": [
    "kernel = \"rbf\"\n",
    "\n",
    "nus = np.linspace(0.01,0.1,10)\n",
    "gammas = np.linspace(0.05,0.5,10)"
   ]
  },
  {
   "cell_type": "code",
   "execution_count": 12,
   "metadata": {
    "collapsed": false
   },
   "outputs": [],
   "source": [
    "precision_rbf=[]\n",
    "accuracy_rbf=[]\n",
    "\n",
    "for nu in nus:\n",
    "     for gamma in gammas:\n",
    "        model = OCSVM(nu,kernel,gamma,x_train_set)\n",
    "        out = predict(model,val,True,0.715)\n",
    "        precision_rbf.append(out[0])\n",
    "        accuracy_rbf.append(out[1])\n",
    "        #print(\"nu = {}, gamma = {}\".format(nu,gamma))\n"
   ]
  },
  {
   "cell_type": "code",
   "execution_count": 13,
   "metadata": {
    "collapsed": false
   },
   "outputs": [
    {
     "data": {
      "text/plain": [
       "0.79028132992327371"
      ]
     },
     "execution_count": 13,
     "metadata": {},
     "output_type": "execute_result"
    },
    {
     "data": {
      "image/png": "[encoded data removed]",
      "text/plain": [
       "<matplotlib.figure.Figure at 0x7f00ccfa3ef0>"
      ]
     },
     "metadata": {},
     "output_type": "display_data"
    }
   ],
   "source": [
    "# after two searches, nu=0.05 and gamma = 0.05 is the best for rbf\n",
    "# plt.plot(precision_rbf)\n",
    "sns.heatmap(np.array(precision_rbf).reshape(10,10))\n",
    "np.max(precision_rbf)\n"
   ]
  },
  {
   "cell_type": "code",
   "execution_count": 14,
   "metadata": {
    "collapsed": false
   },
   "outputs": [
    {
     "name": "stdout",
     "output_type": "stream",
     "text": [
      "0.790281329923\n",
      "0.09 0.05\n"
     ]
    }
   ],
   "source": [
    "print(precision_rbf[80])\n",
    "print(nus[8],gammas[0])"
   ]
  },
  {
   "cell_type": "code",
   "execution_count": 15,
   "metadata": {
    "collapsed": false
   },
   "outputs": [
    {
     "name": "stdout",
     "output_type": "stream",
     "text": [
      "Precision and accuracy without threshold: 0.62, 0.58\n",
      "Precision and accuracy with threshold: 0.79, 0.61\n"
     ]
    }
   ],
   "source": [
    "# Summary of best coditions with and without threshold\n",
    "model = OCSVM(0.09,\"rbf\",0.05,x_train_set)\n",
    "out = predict(model,val,False)\n",
    "print(\"Precision and accuracy without threshold: {:.2f}, {:.2f}\".format(out[0],out[1]))\n",
    "\n",
    "out_thresh = predict(model,val,True,0.715)\n",
    "print(\"Precision and accuracy with threshold: {:.2f}, {:.2f}\".format(out_thresh[0],out_thresh[1]))\n"
   ]
  },
  {
   "cell_type": "code",
   "execution_count": 16,
   "metadata": {
    "collapsed": false
   },
   "outputs": [
    {
     "name": "stdout",
     "output_type": "stream",
     "text": [
      "Precision and accuracy for the test set: 0.76, 0.61\n"
     ]
    }
   ],
   "source": [
    "# Comparable results for the test set suggests no overfitting. \n",
    "out_test= predict(model,test,True,0.715)\n",
    "print(\"Precision and accuracy for the test set: {:.2f}, {:.2f}\".format(out_test[0],out_test[1]))"
   ]
  },
  {
   "cell_type": "code",
   "execution_count": 17,
   "metadata": {
    "collapsed": false
   },
   "outputs": [],
   "source": [
    "# Pickle the model for use in the web-app\n",
    "pickle.dump(model,open('outlier03.pkl',\"wb\"),protocol=2)"
   ]
  },
  {
   "cell_type": "markdown",
   "metadata": {},
   "source": [
    "#Predict on the active, non-UFC fighters"
   ]
  },
  {
   "cell_type": "code",
   "execution_count": 18,
   "metadata": {
    "collapsed": false
   },
   "outputs": [],
   "source": [
    "out_pred = predict(model,y_predict,True,0.715)\n",
    "y_predict['pred'] = Series(out_pred[2])"
   ]
  },
  {
   "cell_type": "code",
   "execution_count": 19,
   "metadata": {
    "collapsed": false
   },
   "outputs": [],
   "source": [
    "# Need to get a full dataframe for insights\n",
    "fighters = pd.read_sql('SELECT * FROM `features01`',con=engine)\n",
    "fighters.drop(['index'],inplace=True,axis=1)\n",
    "fighters = fighters.drop_duplicates()\n",
    "\n",
    "fighters = DataFrame(fighters[fighters['active']==1])\n",
    "fighters = DataFrame(fighters[fighters['ufc.has']==0]).reset_index(inplace=False)\n",
    "\n",
    "clear_output()"
   ]
  },
  {
   "cell_type": "code",
   "execution_count": 20,
   "metadata": {
    "collapsed": true
   },
   "outputs": [],
   "source": [
    "fighters['pred'] = y_predict['pred']"
   ]
  },
  {
   "cell_type": "code",
   "execution_count": 21,
   "metadata": {
    "collapsed": false
   },
   "outputs": [
    {
     "name": "stdout",
     "output_type": "stream",
     "text": [
      "There are 699 predicted UFC fighters out of 7843 active non-UFC fighters\n"
     ]
    }
   ],
   "source": [
    "print(\"There are {} predicted UFC fighters out of {} active non-UFC fighters\"\n",
    "      .format(len(fighters[fighters['pred']==1]),len(fighters)))"
   ]
  },
  {
   "cell_type": "code",
   "execution_count": 22,
   "metadata": {
    "collapsed": true
   },
   "outputs": [],
   "source": [
    "predict_ufc = fighters[fighters['pred']==1]"
   ]
  },
  {
   "cell_type": "code",
   "execution_count": 23,
   "metadata": {
    "collapsed": false
   },
   "outputs": [
    {
     "name": "stdout",
     "output_type": "stream",
     "text": [
      "There are 57 fighters with UFC potential in CA.\n"
     ]
    }
   ],
   "source": [
    "# Predicted UFC fighters in California\n",
    "in_ca = predict_ufc[predict_ufc['locality'].str.contains(', Ca')]\n",
    "print(\"There are {} fighters with UFC potential in CA.\".format(len(in_ca)))"
   ]
  },
  {
   "cell_type": "code",
   "execution_count": 24,
   "metadata": {
    "collapsed": false
   },
   "outputs": [
    {
     "data": {
      "text/html": [
       "<div>\n",
       "<table border=\"1\" class=\"dataframe\">\n",
       "  <thead>\n",
       "    <tr style=\"text-align: right;\">\n",
       "      <th></th>\n",
       "      <th>name</th>\n",
       "      <th>locality</th>\n",
       "      <th>win.pct.all</th>\n",
       "      <th>n.fights.pre</th>\n",
       "    </tr>\n",
       "  </thead>\n",
       "  <tbody>\n",
       "    <tr>\n",
       "      <th>7569</th>\n",
       "      <td>Justin Gaethje</td>\n",
       "      <td>Safford, Arizona</td>\n",
       "      <td>1</td>\n",
       "      <td>22</td>\n",
       "    </tr>\n",
       "    <tr>\n",
       "      <th>6560</th>\n",
       "      <td>Kairat Akhmetov</td>\n",
       "      <td>Taldykorgan, Almaty</td>\n",
       "      <td>1</td>\n",
       "      <td>21</td>\n",
       "    </tr>\n",
       "    <tr>\n",
       "      <th>3736</th>\n",
       "      <td>Ben Reiter</td>\n",
       "      <td>Coram, New York</td>\n",
       "      <td>1</td>\n",
       "      <td>17</td>\n",
       "    </tr>\n",
       "    <tr>\n",
       "      <th>5128</th>\n",
       "      <td>Vagab Vagabov</td>\n",
       "      <td>Makhachkala, Republic of Dagestan</td>\n",
       "      <td>1</td>\n",
       "      <td>16</td>\n",
       "    </tr>\n",
       "    <tr>\n",
       "      <th>5111</th>\n",
       "      <td>Vitaly Minakov</td>\n",
       "      <td>Bryansk, Bryansk</td>\n",
       "      <td>1</td>\n",
       "      <td>15</td>\n",
       "    </tr>\n",
       "    <tr>\n",
       "      <th>2071</th>\n",
       "      <td>Shane Burgos</td>\n",
       "      <td>Woodbury, New York</td>\n",
       "      <td>1</td>\n",
       "      <td>13</td>\n",
       "    </tr>\n",
       "    <tr>\n",
       "      <th>100</th>\n",
       "      <td>Dean Garnett</td>\n",
       "      <td>Liverpool, Merseyside</td>\n",
       "      <td>1</td>\n",
       "      <td>10</td>\n",
       "    </tr>\n",
       "  </tbody>\n",
       "</table>\n",
       "</div>"
      ],
      "text/plain": [
       "                 name                           locality  win.pct.all  \\\n",
       "7569   Justin Gaethje                   Safford, Arizona            1   \n",
       "6560  Kairat Akhmetov                Taldykorgan, Almaty            1   \n",
       "3736       Ben Reiter                    Coram, New York            1   \n",
       "5128    Vagab Vagabov  Makhachkala, Republic of Dagestan            1   \n",
       "5111   Vitaly Minakov                   Bryansk, Bryansk            1   \n",
       "2071     Shane Burgos                 Woodbury, New York            1   \n",
       "100      Dean Garnett              Liverpool, Merseyside            1   \n",
       "\n",
       "      n.fights.pre  \n",
       "7569            22  \n",
       "6560            21  \n",
       "3736            17  \n",
       "5128            16  \n",
       "5111            15  \n",
       "2071            13  \n",
       "100             10  "
      ]
     },
     "execution_count": 24,
     "metadata": {},
     "output_type": "execute_result"
    }
   ],
   "source": [
    "# Some of the top prospects according to win pct and number of fights\n",
    "(predict_ufc[['name','locality','win.pct.all','n.fights.pre']]\n",
    " .sort(columns=['win.pct.all','n.fights.pre'],ascending=False).loc[:100])"
   ]
  }
 ],
 "metadata": {
  "kernelspec": {
   "display_name": "Python 3",
   "language": "python",
   "name": "python3"
  },
  "language_info": {
   "codemirror_mode": {
    "name": "ipython",
    "version": 3
   },
   "file_extension": ".py",
   "mimetype": "text/x-python",
   "name": "python",
   "nbconvert_exporter": "python",
   "pygments_lexer": "ipython3",
   "version": "3.4.3"
  }
 },
 "nbformat": 4,
 "nbformat_minor": 0
}
